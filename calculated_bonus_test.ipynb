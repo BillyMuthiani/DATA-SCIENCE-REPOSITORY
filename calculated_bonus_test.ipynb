{
  "nbformat": 4,
  "nbformat_minor": 0,
  "metadata": {
    "colab": {
      "provenance": [],
      "authorship_tag": "ABX9TyMnVIuFheCluTuB8YfKLBk/",
      "include_colab_link": true
    },
    "kernelspec": {
      "name": "python3",
      "display_name": "Python 3"
    },
    "language_info": {
      "name": "python"
    }
  },
  "cells": [
    {
      "cell_type": "markdown",
      "metadata": {
        "id": "view-in-github",
        "colab_type": "text"
      },
      "source": [
        "<a href=\"https://colab.research.google.com/github/BillyMuthiani/DATA-SCIENCE-REPOSITORY/blob/main/calculated_bonus_test.ipynb\" target=\"_parent\"><img src=\"https://colab.research.google.com/assets/colab-badge.svg\" alt=\"Open In Colab\"/></a>"
      ]
    },
    {
      "cell_type": "code",
      "execution_count": null,
      "metadata": {
        "colab": {
          "base_uri": "https://localhost:8080/"
        },
        "id": "XxZA4gi5Zc7e",
        "outputId": "2e8e6900-fd1d-427f-d783-d4f960506683"
      },
      "outputs": [
        {
          "output_type": "stream",
          "name": "stdout",
          "text": [
            "50000.0\n",
            "3787.8500000000004\n",
            "157817.6\n",
            "473984.7\n",
            "24164.7\n",
            "438439.30000000005\n",
            "No bonus\n",
            "180418.0\n",
            "41919.15\n",
            "No bonus\n"
          ]
        }
      ],
      "source": [
        "SALARY = [500000,75757,789088,4739847,483294,4384393,383839,902090,838383,5459454]\n",
        "\n",
        "RATINGS = [4,3,5,4,3,4,2,5,3,2]\n",
        "\n",
        "for N in range(len(SALARY)):\n",
        " if RATINGS[N] == 5:\n",
        "   print( 20/100*SALARY[N])\n",
        " elif RATINGS[N] == 4:\n",
        "   print( 10/100*SALARY [N])\n",
        " elif RATINGS[N] == 3:\n",
        "  print ( 5/100*SALARY[N] )\n",
        " else:\n",
        "   print('No bonus')\n",
        "\n"
      ]
    },
    {
      "cell_type": "code",
      "source": [
        "SALARY = [500000,75757,789088,4739847,483294,4384393,383839,902090,838383,5459454]\n",
        "\n",
        "RATINGS = ['4','3','5','4','3','4','2','5','3','2']\n",
        "final_list = dict(zip(SALARY, RATINGS))\n",
        "for SALARY, RATINGS in final_list.items():\n",
        "\n",
        " if RATINGS == '5':\n",
        "   print( 20/100*SALARY)\n",
        " elif RATINGS == '4':\n",
        "   print( 10/100*SALARY )\n",
        " elif RATINGS == '3':\n",
        "  print ( 5/100*SALARY )\n",
        " else:\n",
        "   print('No bonus')\n"
      ],
      "metadata": {
        "colab": {
          "base_uri": "https://localhost:8080/"
        },
        "id": "GYFCP_s0qzht",
        "outputId": "3a16b51d-e58a-4282-89ac-ee74368d7e45"
      },
      "execution_count": 2,
      "outputs": [
        {
          "output_type": "stream",
          "name": "stdout",
          "text": [
            "50000.0\n",
            "3787.8500000000004\n",
            "157817.6\n",
            "473984.7\n",
            "24164.7\n",
            "438439.30000000005\n",
            "No bonus\n",
            "180418.0\n",
            "41919.15\n",
            "No bonus\n"
          ]
        }
      ]
    }
  ]
}