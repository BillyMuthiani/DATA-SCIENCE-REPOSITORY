{
  "nbformat": 4,
  "nbformat_minor": 0,
  "metadata": {
    "colab": {
      "provenance": [],
      "authorship_tag": "ABX9TyN74n+Zv/AGpN5PZ5WO+Zy/",
      "include_colab_link": true
    },
    "kernelspec": {
      "name": "python3",
      "display_name": "Python 3"
    },
    "language_info": {
      "name": "python"
    }
  },
  "cells": [
    {
      "cell_type": "markdown",
      "metadata": {
        "id": "view-in-github",
        "colab_type": "text"
      },
      "source": [
        "<a href=\"https://colab.research.google.com/github/BillyMuthiani/DATA-SCIENCE-REPOSITORY/blob/main/Guess_the_number_game.ipynb\" target=\"_parent\"><img src=\"https://colab.research.google.com/assets/colab-badge.svg\" alt=\"Open In Colab\"/></a>"
      ]
    },
    {
      "cell_type": "code",
      "execution_count": null,
      "metadata": {
        "colab": {
          "base_uri": "https://localhost:8080/"
        },
        "id": "HBXEIj0RvqWh",
        "outputId": "91159fc7-afaa-45f6-f567-5a06e2d35446"
      },
      "outputs": [
        {
          "output_type": "stream",
          "name": "stdout",
          "text": [
            "Hello,this is  Guess the Number game\n",
            "I'm thinking of a number between 1 and 100. Can you guess what it is?\n"
          ]
        }
      ],
      "source": [
        "import random\n",
        "\n",
        "def guess_the_number():\n",
        "    number_to_guess = random.randint(1, 100)\n",
        "    print(\"Hello,this is  Guess the Number game\")\n",
        "    print(\"I'm thinking of a number between 1 and 100. Can you guess what it is?\")\n",
        "\n",
        "    while True:\n",
        "        guess = input(\"Input your guess: \")\n",
        "        try:\n",
        "            guess = int(guess)\n",
        "            if guess < number_to_guess:\n",
        "                print(\"Your guess is too low. Guess again.\")\n",
        "            elif guess > number_to_guess:\n",
        "                print(\"Your guess is too high. Guess again.\")\n",
        "            else:\n",
        "                print(\"Hooray! You guessed the number correctly!\")\n",
        "                break\n",
        "        except ValueError:\n",
        "            print(\"Invalid input. Please input a valid number.\")\n",
        "\n",
        "guess_the_number()\n"
      ]
    }
  ]
}