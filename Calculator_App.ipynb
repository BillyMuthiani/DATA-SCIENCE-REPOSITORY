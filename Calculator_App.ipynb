{
  "nbformat": 4,
  "nbformat_minor": 0,
  "metadata": {
    "colab": {
      "provenance": [],
      "authorship_tag": "ABX9TyPU3fSuKbrNXlkkIE8as7zh",
      "include_colab_link": true
    },
    "kernelspec": {
      "name": "python3",
      "display_name": "Python 3"
    },
    "language_info": {
      "name": "python"
    }
  },
  "cells": [
    {
      "cell_type": "markdown",
      "metadata": {
        "id": "view-in-github",
        "colab_type": "text"
      },
      "source": [
        "<a href=\"https://colab.research.google.com/github/BillyMuthiani/DATA-SCIENCE-REPOSITORY/blob/main/Calculator_App.ipynb\" target=\"_parent\"><img src=\"https://colab.research.google.com/assets/colab-badge.svg\" alt=\"Open In Colab\"/></a>"
      ]
    },
    {
      "cell_type": "code",
      "execution_count": null,
      "metadata": {
        "id": "i1t9J37SQKsO"
      },
      "outputs": [],
      "source": [
        "def calculator(num1, num2):\n",
        "\n",
        "    operator = input(\"Enter the operator (+, -, *, /): \")\n",
        "\n",
        "\n",
        "    if operator == \"+\":\n",
        "        return num1 + num2\n",
        "    elif operator == \"-\":\n",
        "        return num1 - num2\n",
        "    elif operator == \"*\":\n",
        "        return num1 * num2\n",
        "    elif operator == \"/\":\n",
        "\n",
        "        if num2 == 0:\n",
        "            return \"Error!!!!!Cannot divide by zero.!!!!\"\n",
        "        else:\n",
        "            return num1 / num2\n",
        "    else:\n",
        "        return \"Invalid!!!!!!!!! . Please enter one of the following: +, -, *, /\"\n",
        "\n",
        "\n",
        "\n",
        "def main():\n",
        "    while True:\n",
        "\n",
        "        try:\n",
        "            num1 = float(input(\"Enter the first number: \"))\n",
        "            num2 = float(input(\"Enter the second number: \"))\n",
        "        except ValueError:\n",
        "            print(\"Error: Please enter valid numbers.\")\n",
        "            continue\n",
        "\n",
        "\n",
        "        result = calculator(num1, num2)\n",
        "        print(f\"The result is: {result}\")\n",
        "\n",
        "\n",
        "        another = input(\"Do you want to perform another calculation? (yes/no): \").lower()\n",
        "        if another != \"yes\":\n",
        "            print(\"Thank you for using the calculator!\")\n",
        "            break\n",
        "\n",
        "\n",
        "if __name__ == \"__main__\":\n",
        "    main()\n"
      ]
    }
  ]
}