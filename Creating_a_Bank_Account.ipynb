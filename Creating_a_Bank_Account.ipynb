{
  "nbformat": 4,
  "nbformat_minor": 0,
  "metadata": {
    "colab": {
      "provenance": [],
      "authorship_tag": "ABX9TyPHzCpV+ffuxHTUBRsVSJVN",
      "include_colab_link": true
    },
    "kernelspec": {
      "name": "python3",
      "display_name": "Python 3"
    },
    "language_info": {
      "name": "python"
    }
  },
  "cells": [
    {
      "cell_type": "markdown",
      "metadata": {
        "id": "view-in-github",
        "colab_type": "text"
      },
      "source": [
        "<a href=\"https://colab.research.google.com/github/BillyMuthiani/DATA-SCIENCE-REPOSITORY/blob/main/Creating_a_Bank_Account.ipynb\" target=\"_parent\"><img src=\"https://colab.research.google.com/assets/colab-badge.svg\" alt=\"Open In Colab\"/></a>"
      ]
    },
    {
      "cell_type": "code",
      "execution_count": 1,
      "metadata": {
        "colab": {
          "base_uri": "https://localhost:8080/"
        },
        "id": "yhEPPkDoMSME",
        "outputId": "99b004eb-5ea8-4bed-b313-813007ef8a72"
      },
      "outputs": [
        {
          "output_type": "stream",
          "name": "stdout",
          "text": [
            "Initial balance: ksh1000.00\n",
            "Deposited ksh10000.00, current balance: ksh11000.00\n",
            "Insufficient balance for this withdrawal.\n",
            "Final balance: ksh11000.00\n"
          ]
        }
      ],
      "source": [
        "class Account:\n",
        "    def __init__(self, account_number: str, account_holder: str, account_balance: float = 0.0):\n",
        "        self.account_number = account_number\n",
        "        self.account_holder = account_holder\n",
        "        self.account_balance = account_balance\n",
        "\n",
        "    def deposit(self, amount: float):\n",
        "        if amount > 0:\n",
        "            self.account_balance += amount\n",
        "            print(f\"Deposited ksh{amount:.2f}, current balance: ksh{self.account_balance:.2f}\")\n",
        "        else:\n",
        "            print(\"Deposit amount must be greater than 0.\")\n",
        "\n",
        "    def withdraw(self, amount: float):\n",
        "        if amount > 0:\n",
        "            if self.account_balance >= amount:\n",
        "                self.account_balance -= amount\n",
        "                print(f\"Withdrew ksh{amount:.2f}, current balance: ksh{self.account_balance:.2f}\")\n",
        "            else:\n",
        "                print(\"Insufficient balance for this withdrawal.\")\n",
        "        else:\n",
        "            print(\"Withdrawal failed.\")\n",
        "\n",
        "    def check_balance(self):\n",
        "        return self.account_balance\n",
        "\n",
        "\n",
        "if __name__ == \"__main__\":\n",
        "\n",
        "    account = Account(\"11792\", \"Layenne\", 1000.00)\n",
        "\n",
        "\n",
        "    print(f\"Initial balance: ksh{account.check_balance():.2f}\")\n",
        "\n",
        "\n",
        "    account.deposit(10000.00)\n",
        "\n",
        "\n",
        "    account.withdraw(200000.00)\n",
        "\n",
        "\n",
        "    print(f\"Final balance: ksh{account.check_balance():.2f}\")\n",
        "\n"
      ]
    }
  ]
}