{
  "nbformat": 4,
  "nbformat_minor": 0,
  "metadata": {
    "colab": {
      "provenance": [],
      "authorship_tag": "ABX9TyP51IaQpJ6Xvnbvc9oBHc7r",
      "include_colab_link": true
    },
    "kernelspec": {
      "name": "python3",
      "display_name": "Python 3"
    },
    "language_info": {
      "name": "python"
    }
  },
  "cells": [
    {
      "cell_type": "markdown",
      "metadata": {
        "id": "view-in-github",
        "colab_type": "text"
      },
      "source": [
        "<a href=\"https://colab.research.google.com/github/BillyMuthiani/DATA-SCIENCE-REPOSITORY/blob/main/FIZZBUZZ_QUEST.ipynb\" target=\"_parent\"><img src=\"https://colab.research.google.com/assets/colab-badge.svg\" alt=\"Open In Colab\"/></a>"
      ]
    },
    {
      "cell_type": "code",
      "execution_count": 5,
      "metadata": {
        "colab": {
          "base_uri": "https://localhost:8080/"
        },
        "id": "s4GM32EFO9yu",
        "outputId": "f8f38877-4952-4518-fabe-ee7929d81dc7"
      },
      "outputs": [
        {
          "output_type": "stream",
          "name": "stdout",
          "text": [
            "1\n",
            "2\n",
            "FizzBuzz\n",
            "4\n",
            "Buzz\n",
            "FizzBuzz\n",
            "7\n",
            "8\n",
            "FizzBuzz\n",
            "Buzz\n",
            "11\n",
            "FizzBuzz\n",
            "13\n",
            "14\n",
            "FizzBuzz\n",
            "16\n",
            "17\n",
            "FizzBuzz\n",
            "19\n",
            "Buzz\n",
            "FizzBuzz\n",
            "22\n",
            "23\n",
            "FizzBuzz\n",
            "Buzz\n",
            "26\n",
            "FizzBuzz\n",
            "28\n",
            "29\n",
            "FizzBuzz\n",
            "31\n",
            "32\n",
            "FizzBuzz\n",
            "34\n",
            "Buzz\n",
            "FizzBuzz\n",
            "37\n",
            "38\n",
            "FizzBuzz\n",
            "Buzz\n",
            "41\n",
            "FizzBuzz\n",
            "43\n",
            "44\n",
            "FizzBuzz\n",
            "46\n",
            "47\n",
            "FizzBuzz\n",
            "49\n",
            "Buzz\n"
          ]
        }
      ],
      "source": [
        "for B in range(1,51):\n",
        "    if B % 3 == 0 and i % 5 == 0:\n",
        "        print(\"FizzBuzz\")\n",
        "    elif B % 3 == 0:\n",
        "        print(\"Fizz\")\n",
        "    elif B % 5 == 0:\n",
        "        print(\"Buzz\")\n",
        "    else:\n",
        "        print(B)\n"
      ]
    }
  ]
}